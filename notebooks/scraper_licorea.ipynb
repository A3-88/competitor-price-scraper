{
 "cells": [
  {
   "cell_type": "code",
   "execution_count": 1,
   "id": "5490f09e",
   "metadata": {},
   "outputs": [],
   "source": [
    "import requests\n",
    "from bs4 import BeautifulSoup\n",
    "import pandas as pd\n",
    "import time"
   ]
  },
  {
   "cell_type": "code",
   "execution_count": 2,
   "id": "125060ef",
   "metadata": {},
   "outputs": [
    {
     "name": "stdout",
     "output_type": "stream",
     "text": [
      "Page 1 scraped\n",
      "Page 2 scraped\n",
      "Page 3 scraped\n",
      "Page 4 scraped\n",
      "Page 5 scraped\n",
      "Page 6 scraped\n",
      "Page 7 scraped\n",
      "Page 8 scraped\n",
      "Page 9 scraped\n",
      "Page 10 scraped\n",
      "Page 11 scraped\n",
      "Page 12 scraped\n",
      "Page 13 scraped\n",
      "Page 14 scraped\n",
      "Page 15 scraped\n",
      "Scraped 360 products total\n"
     ]
    }
   ],
   "source": [
    "base_url = \"https://www.licorea.com/whisky-c-22.html?page={}&sort=2a\"\n",
    "\n",
    "headers = {\n",
    "    \"User-Agent\": \"Mozilla/5.0 (Windows NT 10.0; Win64; x64) \"\n",
    "                  \"AppleWebKit/537.36 (KHTML, like Gecko) \"\n",
    "                  \"Chrome/115.0.0.0 Safari/537.36\"\n",
    "}\n",
    "\n",
    "links = []\n",
    "product_names = []\n",
    "product_categories = []\n",
    "product_prices = []\n",
    "\n",
    "# loop through first 16 pages (adjust range if needed)\n",
    "for page in range(1, 16):\n",
    "    url = base_url.format(page)\n",
    "    response = requests.get(url, headers=headers)\n",
    "    soup = BeautifulSoup(response.text, \"html.parser\")\n",
    "\n",
    "    products = soup.find_all(\"div\", class_=\"productDetailBox col-md-12 col-6\")\n",
    "    if not products:\n",
    "        break   # stop if no products found (end of pagination)\n",
    "\n",
    "    for product in products:\n",
    "        # link\n",
    "        links.append(product.find('a')['href'])\n",
    "        \n",
    "        # product name (cleaned)\n",
    "        raw_text = product.find('h3').get_text(strip=True)\n",
    "        clean_text = \" \".join(raw_text.split())\n",
    "        product_names.append(clean_text)\n",
    "        \n",
    "        # category\n",
    "        product_categories.append(product.find('h4').get_text(strip=True))\n",
    "        \n",
    "        # price\n",
    "        product_prices.append(\n",
    "            product.find('div', class_=\"productBoxPrice\").find('span').get_text(strip=True)\n",
    "        )\n",
    "    \n",
    "    print(f\"Page {page} scraped\")\n",
    "    \n",
    "    # wait 1 second before requesting the next page\n",
    "    time.sleep(1)\n",
    "\n",
    "# build DataFrame\n",
    "df = pd.DataFrame({\n",
    "    \"Name\": product_names,\n",
    "    \"Price\": product_prices,\n",
    "    \"Category\": product_categories,\n",
    "    \"Link\": links\n",
    "})\n",
    "\n",
    "print(f\"Scraped {len(df)} products total\")"
   ]
  },
  {
   "cell_type": "code",
   "execution_count": null,
   "id": "0290be88",
   "metadata": {},
   "outputs": [],
   "source": [
    "df.head()"
   ]
  },
  {
   "cell_type": "code",
   "execution_count": 1,
   "id": "58ce3161",
   "metadata": {},
   "outputs": [],
   "source": [
    "#save dataframe to a csv file (optional)\n",
    "# df.to_csv('scraped_products.csv')"
   ]
  }
 ],
 "metadata": {
  "kernelspec": {
   "display_name": "alimentos",
   "language": "python",
   "name": "alimentos"
  },
  "language_info": {
   "codemirror_mode": {
    "name": "ipython",
    "version": 3
   },
   "file_extension": ".py",
   "mimetype": "text/x-python",
   "name": "python",
   "nbconvert_exporter": "python",
   "pygments_lexer": "ipython3",
   "version": "3.9.22"
  }
 },
 "nbformat": 4,
 "nbformat_minor": 5
}
